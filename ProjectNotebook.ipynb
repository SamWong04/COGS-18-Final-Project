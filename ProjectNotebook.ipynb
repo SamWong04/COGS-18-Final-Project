{
 "cells": [
  {
   "cell_type": "markdown",
   "metadata": {},
   "source": [
    "## Project Description"
   ]
  },
  {
   "cell_type": "markdown",
   "metadata": {},
   "source": [
    "Project: Samuel Wangs Thunder Raid\n",
    "\n",
    "- It's a shmups(Shoot'em up) like two-player game. \n",
    "- One side is the attacker, the other is the defender. If the defender's side's little defender hit the attacker, the game is over. \n",
    "- The goal for attacker is to destory the random generated little defender as much as possible to gain a higher score.\n",
    "- The goal for defender is to use its bullets to counteract the attacker's bullets to defend the little defender, but not to directly destroy the attacker!!!!!! \n",
    "- The bullet of defender will only counteract attcker's bullets! not destory it!!!!!!!\n",
    "- The player can control the attacker with 'W A S D' and the defender with '↑ ↓ ← →'\n",
    "\n",
    "Why I made this game:\n",
    "\n",
    "- Firstly, I want use what I have learned in COGS18 to build my game by using OOP(object oriented programming) with a third party library - pygame.\n",
    "- By integrating the classes, including the attacker, the defender, the enemies and the bullets, and the Pygame, I gain more profound comprehension of python programming.\n",
    "- Also, the game itself is fun to play with my friends. I can keep on adding more elements in the game to make it more fun, like add some supplement, the HP system and even more kinds of enemies."
   ]
  },
  {
   "cell_type": "markdown",
   "metadata": {},
   "source": [
    "## Approach"
   ]
  },
  {
   "cell_type": "markdown",
   "metadata": {},
   "source": [
    "1. You use relevant modules (from standard library and external sources):\n",
    "- I realize this game with basic OOP and pygame, they are necessary for this game. Using class as object ensures the low complexity of coding and pygame lib provides the essential methods to build a game, including the input of songs and images and the process of collision between objects, like the bullets and the plane.\n",
    "2. The algorithms / approaches used are well chosen for the task at hand:\n",
    "- Every function in my project is not redundant, the movement of each elements, the process of collision between objects and the control of frequency of generating elements are all adjustable. I only use basic pygame method and python loops and conditions to build the game.\n",
    "3. The algorithms / approaches chosen are properly implemented:\n",
    "- I've tried my best to read and to understand the documentations of pygame to make my project consice and robust."
   ]
  },
  {
   "cell_type": "markdown",
   "metadata": {},
   "source": [
    "## Project Code (check all resource code in 'my_module' folder)"
   ]
  },
  {
   "cell_type": "markdown",
   "metadata": {},
   "source": [
    "### 1.Create a background for my game (run the code to check)"
   ]
  },
  {
   "cell_type": "code",
   "execution_count": 4,
   "metadata": {
    "scrolled": true
   },
   "outputs": [
    {
     "ename": "SystemExit",
     "evalue": "",
     "output_type": "error",
     "traceback": [
      "An exception has occurred, use %tb to see the full traceback.\n",
      "\u001b[1;31mSystemExit\u001b[0m\n"
     ]
    }
   ],
   "source": [
    "import pygame\n",
    "from pygame.locals import *\n",
    "from sys import exit\n",
    "\n",
    "SCREEN_WIDTH = 512\n",
    "SCREEN_HEIGHT = 768\n",
    "\n",
    "# initialize the game\n",
    "pygame.init()\n",
    "screen = pygame.display.set_mode((SCREEN_WIDTH, SCREEN_HEIGHT))\n",
    "pygame.display.set_caption('Samuel Wang Background demo')\n",
    "\n",
    "# load the background picture\n",
    "background = pygame.image.load('my_module/res/image/background.jpg')\n",
    "\n",
    "while True:\n",
    "    # render the background\n",
    "    screen.fill(0)\n",
    "    screen.blit(background, (0, 0))\n",
    "    pygame.display.update()\n",
    "\n",
    "    # Handle the exit of the game\n",
    "    for event in pygame.event.get():\n",
    "        if event.type == pygame.QUIT:\n",
    "            pygame.quit()\n",
    "            exit()"
   ]
  },
  {
   "cell_type": "markdown",
   "metadata": {},
   "source": [
    "### 2. Add the element above the backgound \n",
    "- (using the attacker as an example, cannot run this cell)"
   ]
  },
  {
   "cell_type": "code",
   "execution_count": null,
   "metadata": {
    "scrolled": true
   },
   "outputs": [],
   "source": [
    "# Load the picture of each element\n",
    "plane_img = pygame.image.load('my_module/res/image/shoot.png')\n",
    "\n",
    "# Select the location of the element and set its initial position\n",
    "player_rect = pygame.Rect(0, 99, 102, 126)\n",
    "player = plane_img.subsurface(player_rect)\n",
    "player_pos = [200, 600]\n",
    "screen.blit(player, player_pos)"
   ]
  },
  {
   "cell_type": "markdown",
   "metadata": {},
   "source": [
    "### 3. Combine all the element and realize their functions\n",
    "- To run the \"Samuel Wang Thunder Raid.py\" file in the my_module folder, please install the pygame lib first."
   ]
  },
  {
   "cell_type": "markdown",
   "metadata": {},
   "source": [
    "<p align=\"middle\">\n",
    "  <img src=\"my_module/res/Demo.png\" width=\"500\" />\n",
    "  <img src=\"my_module/res/GameOver.png\" width=\"500\" /> \n",
    "</p>"
   ]
  },
  {
   "cell_type": "markdown",
   "metadata": {},
   "source": [
    "#### Work cited:\n",
    "All the artwork, icons, sound effects, and fonts used in this project are all from a game called Airplane Wars, developed and produced by Tencent in China. The project will not be used for any commercial activities, thanks to the generosity of the developers who provided their materials.\n",
    "Website: https://feiji.qq.com/ [Accessed November 30,2022]"
   ]
  },
  {
   "cell_type": "markdown",
   "metadata": {},
   "source": [
    "## Extra:\n",
    "1. Your Python Background?\n",
    "- I've learned java, html, css before, but never used python to write any program, so it's my first python project. But I already familiar with OOP and data structures before taking COGS 18.\n",
    "2. How your project went above and beyond the requirements of the project and/or how you challenged yourself to learn something new with the final project\n",
    "- I challenged myself to learn a new third party lib pygame to make a playable game. Also, I combined the pygame with the basic OOP programming and used the modular design to write my code. I start my project with a rough skeleton, including the class and the function that I want to include. And I follow the cycle to realize each of the class and their functions and keep improving them.\n",
    "- The most harderst part for me is to find a easy method to limit the movement of the elements in the visible space. Although the algorithm seems easy now, but it's hard for me to find the correct way."
   ]
  }
 ],
 "metadata": {
  "kernelspec": {
   "display_name": "Python 3.10.8 64-bit (microsoft store)",
   "language": "python",
   "name": "python3"
  },
  "language_info": {
   "codemirror_mode": {
    "name": "ipython",
    "version": 3
   },
   "file_extension": ".py",
   "mimetype": "text/x-python",
   "name": "python",
   "nbconvert_exporter": "python",
   "pygments_lexer": "ipython3",
   "version": "3.10.8"
  },
  "vscode": {
   "interpreter": {
    "hash": "5e17f3d80b93f1f628f5a80d121951257b8770469e2173178f5576f0cfa9728c"
   }
  }
 },
 "nbformat": 4,
 "nbformat_minor": 2
}
